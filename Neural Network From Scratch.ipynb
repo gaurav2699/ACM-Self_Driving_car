{
 "cells": [
  {
   "cell_type": "code",
   "execution_count": 7,
   "id": "e4824a1b",
   "metadata": {},
   "outputs": [
    {
     "name": "stdout",
     "output_type": "stream",
     "text": [
      "4.8\n"
     ]
    }
   ],
   "source": [
    "#NEURAL NETWORKS \n",
    "\n",
    "#There is an input node which is connected to layers\n",
    "#Each of these connections has a particular weight\n",
    "#Every neuron has a connection to every single previous set of neurons \n",
    "inputs = [1, 2, 3, 2.5]\n",
    "weights = [0.2, 0.8, -0.5, 1]\n",
    "#Each neuron has its own unique weight\n",
    "bias = 2\n",
    "output = inputs[0]*weights[0] + inputs[1]*weights[1] + inputs[2]*weights[2] + \n",
    "inputs[3]*weights[3] + bias\n",
    "print(output)\n",
    "#This gives a brief idea of how neural networks hold information \n"
   ]
  },
  {
   "cell_type": "code",
   "execution_count": 13,
   "id": "818ad8f3",
   "metadata": {},
   "outputs": [
    {
     "name": "stdout",
     "output_type": "stream",
     "text": [
      "[[ 4.8    1.21   2.385]\n",
      " [ 8.9   -1.81   0.2  ]\n",
      " [ 1.41   1.051  0.026]]\n"
     ]
    }
   ],
   "source": [
    "'''Inputs are features of a sample and we want to pass an entire \n",
    "batch of these to form different layers of neurons. The batch size is the number of \n",
    "inputs we give to the program at a time to fit the data.\n",
    "If you are shown 1 neuron at a time, it can be a bit hard to fit. But its going to ge easier if you\n",
    "show like...32 at a time.\n",
    "If you show all samples at once, it leads to Overfitting which is not that great \n",
    "Usually have a batch size of 32 or 64. This varies with different problems =)'''\n",
    "import numpy as np\n",
    "\n",
    "inputs = [[1,2,3,2.5],\n",
    "          [2,5,-1,2],\n",
    "          [-1.5,2.7,3.3,-0.8]]\n",
    "\n",
    "weights = [[0.2,0.8,-0.5,1],\n",
    "           [0.5,-0.91,0.26,-0.5],\n",
    "           [-0.26,-0.27,0.17,0.87]]  #3x4 matrix\n",
    "\n",
    "biases = [2, 3, 0.5]\n",
    "\n",
    "#We want to transpose the weights matrix for the desired matrix multiplication\n",
    "#To do this, we convert the weights matrix into a numpy array \n",
    "#to transpose, add a .T at the end of the numpy array\n",
    "output = np.dot(inputs, np.array(weights).T) + biases\n",
    "\n",
    "print(output)\n"
   ]
  },
  {
   "cell_type": "code",
   "execution_count": 14,
   "id": "cd6b7610",
   "metadata": {},
   "outputs": [
    {
     "name": "stdout",
     "output_type": "stream",
     "text": [
      "[[ 0.5031  -1.04185 -2.03875]\n",
      " [ 0.2434  -2.7332  -5.7633 ]\n",
      " [-0.99314  1.41254 -0.35655]]\n"
     ]
    }
   ],
   "source": [
    "import numpy as np\n",
    "#Now we add another layer to our program i.e another set of weights and biases \n",
    "\n",
    "inputs = [[1,2,3,2.5],\n",
    "          [2,5,-1,2],\n",
    "          [-1.5,2.7,3.3,-0.8]]\n",
    "\n",
    "weights = [[0.2,0.8,-0.5,1],\n",
    "           [0.5,-0.91,0.26,-0.5],\n",
    "           [-0.26,-0.27,0.17,0.87]]  #3x4 matrix\n",
    "\n",
    "biases = [2, 3, 0.5]\n",
    "\n",
    "#2nd layer\n",
    "weights2 = [[0.1, -0.14, 0.5],\n",
    "           [-0.5, 0.12, -0.33],\n",
    "           [-0.44, 0.73, -0.13]] \n",
    "\n",
    "biases2 = [-1, 2, -0.5]\n",
    "\n",
    "#We want to transpose the weights matrix for the desired matrix multiplication\n",
    "#To do this, we convert the weights matrix into a numpy array \n",
    "#to transpose, add a .T at the end of the numpy array\n",
    "layer1_outputs = np.dot(inputs, np.array(weights).T) + biases\n",
    "#These serve as inputs to the next layer\n",
    "layer2_outputs = np.dot(layer1_outputs, np.array(weights2).T) + biases2\n",
    "\n",
    "print(layer2_outputs)"
   ]
  },
  {
   "cell_type": "code",
   "execution_count": 19,
   "id": "fe8efdcb",
   "metadata": {},
   "outputs": [
    {
     "name": "stdout",
     "output_type": "stream",
     "text": [
      "[[ 0.148296   -0.08397602]\n",
      " [ 0.14100315 -0.01340469]\n",
      " [ 0.20124979 -0.07290616]]\n"
     ]
    }
   ],
   "source": [
    "import numpy as np\n",
    "np.random.seed(0)\n",
    "#This is out training data set \n",
    "X = [[1,2,3,2.5],\n",
    "     [2,5,-1,2],\n",
    "     [-1.5,2.7,3.3,-0.8]] \n",
    "\n",
    "#Now we define the 2 hidden layers\n",
    "\n",
    "class Layer_Dense: \n",
    "    def __init__(self, n_inputs, n_neurons):\n",
    "        \n",
    "        self.weights = 0.10*np.random.randn(n_inputs, n_neurons)        \n",
    "        #We want to know what shape to pass into this. Basically, we need to know\n",
    "        #the size of the input coming in and how many neurons we are going to be working with.\n",
    "        #We take the matrix as inputs x neurons to avoid transposing everytime we access it.'''\n",
    "        #randn is a gaussian distribution function bounded around 0\n",
    "        \n",
    "        self.biases = np.zeros((1,n_neurons))\n",
    "       \n",
    "    def forward(self, inputs):\n",
    "        self.output = np.dot(inputs, self.weights) + self.biases\n",
    "\n",
    "layer1 = Layer_Dense(4,5) #From training data, we have 4 inputs per set but we can set neurons to anything\n",
    "layer2 = Layer_Dense(5,2) #Again, first element has to be 5 since last neuron number was 5\n",
    "\n",
    "layer1.forward(X)\n",
    "\n",
    "layer2.forward(layer1.output)\n",
    "print(layer2.output)"
   ]
  },
  {
   "cell_type": "code",
   "execution_count": 20,
   "id": "dd537098",
   "metadata": {},
   "outputs": [
    {
     "name": "stdout",
     "output_type": "stream",
     "text": [
      "[0, 2, 0, 3.3, 0, 1.1, 2.2, 0]\n"
     ]
    }
   ],
   "source": [
    "#Activation Functions \n",
    "'''Some Activation functions are Step function. Building on this, we \n",
    "take the Sigmoid function which makes the output more granular. We want to see\n",
    "how close we were to outputting another input and this is achieved with the\n",
    "sigmoid function. \n",
    "Another function is Rectified Linear Unit Activation Function. y=x for all x>0\n",
    "\n",
    "A popular function is the completely linear y=x for all x. This is better than Sigmoid\n",
    "function to get rid of the \"vanishing gradient\" problem. The linear function\n",
    "is faster and relatively simpler than the sigmoid. It also just works =)\n",
    "This is the most popular function to use in Hidden Layers in Neural Networks.\n",
    "\n",
    "The bias determines at which point the neuron gets activated. The slope of this\n",
    "function is based on its weight.\n",
    "\n",
    "Consider a pair of neurons in the hidden layers\n",
    "First neuron sets the Activation point and the slope\n",
    "Second neuron is used to set the deactivation point\n",
    "This simple methodology is used to demonstrate how a pair of neurons can fit\n",
    "to a non- linear problem using non- linear activation functions'''\n",
    "\n",
    "import numpy as np\n",
    "np.random.seed(0) \n",
    "#Linear Activation Function Demonstration\n",
    "inputs = [0, 2, -1, 3.3, -2.7, 1.1, 2.2, -100]\n",
    "output = []\n",
    "for i in inputs: \n",
    "    if i>0:\n",
    "        output.append(i)\n",
    "    elif i<=0:\n",
    "        output.append(0)\n",
    "        \n",
    "        #Another way of doing the same thing \n",
    "        # output.append(max(0,i))\n",
    "print(output)\n",
    "        "
   ]
  },
  {
   "cell_type": "code",
   "execution_count": 26,
   "id": "046fee15",
   "metadata": {},
   "outputs": [
    {
     "name": "stdout",
     "output_type": "stream",
     "text": [
      "Here\n"
     ]
    },
    {
     "data": {
      "image/png": "[encoded data removed]",
      "text/plain": [
       "<Figure size 432x288 with 1 Axes>"
      ]
     },
     "metadata": {
      "needs_background": "light"
     },
     "output_type": "display_data"
    },
    {
     "data": {
      "image/png": "[encoded data removed]",
      "text/plain": [
       "<Figure size 432x288 with 1 Axes>"
      ]
     },
     "metadata": {
      "needs_background": "light"
     },
     "output_type": "display_data"
    }
   ],
   "source": [
    "#Taken a Spiral Data Set from nnfs\n",
    "import numpy as np \n",
    "np.random.seed(0)\n",
    "\n",
    "def create_data(points, classes):\n",
    "    X = np.zeros((points*classes,2))\n",
    "    Y = np.zeros(points*classes, dtype='uint8')\n",
    "    for class_number in range(classes):\n",
    "        ix = range(points*class_number, points*(class_number+1))\n",
    "        r = np.linspace(0,1,points) #Radius\n",
    "        t = np.linspace(class_number*4, (class_number+1)*4, points)+ np.random.randn(points)*0.2\n",
    "        X[ix] = np.c_[r*np.sin(t*2.5), r*np.cos(t*2.5)]\n",
    "        Y[ix] = class_number\n",
    "    return X,Y\n",
    "import matplotlib.pyplot as plt\n",
    "print(\"Here\")\n",
    "X,Y = create_data(100,3)\n",
    "\n",
    "plt.scatter(X[:,0],X[:,1])\n",
    "plt.show()\n",
    "\n",
    "plt.scatter(X[:,0],X[:,1],c=Y, cmap=\"brg\")\n",
    "plt.show()\n",
    "\n",
    "        "
   ]
  },
  {
   "cell_type": "code",
   "execution_count": 29,
   "id": "5de22409",
   "metadata": {},
   "outputs": [
    {
     "name": "stdout",
     "output_type": "stream",
     "text": [
      "[[0.00000000e+00 0.00000000e+00 0.00000000e+00 0.00000000e+00\n",
      "  0.00000000e+00]\n",
      " [0.00000000e+00 0.00000000e+00 0.00000000e+00 4.65504505e-04\n",
      "  4.56846210e-05]\n",
      " [0.00000000e+00 5.93469958e-05 0.00000000e+00 2.03573116e-04\n",
      "  6.10024377e-04]\n",
      " ...\n",
      " [1.13291524e-01 0.00000000e+00 0.00000000e+00 8.11079666e-02\n",
      "  0.00000000e+00]\n",
      " [1.34588361e-01 0.00000000e+00 3.09493970e-02 5.66337556e-02\n",
      "  0.00000000e+00]\n",
      " [1.07817926e-01 0.00000000e+00 0.00000000e+00 8.72561932e-02\n",
      "  0.00000000e+00]]\n"
     ]
    }
   ],
   "source": [
    "import numpy as np\n",
    "import nnfs \n",
    "from nnfs.datasets import spiral_data\n",
    "\n",
    "nnfs.init()\n",
    "\n",
    "X = [[1,2,3,2.5],\n",
    "     [2,5,-1,2],\n",
    "     [-1.5,2.7,3.3,-0.8]] \n",
    "\n",
    "X,y = spiral_data(100,3) #100 feature sets of 3 classes\n",
    "\n",
    "class Layer_Dense: \n",
    "    def __init__(self, n_inputs, n_neurons):\n",
    "        \n",
    "        self.weights = 0.10*np.random.randn(n_inputs, n_neurons)        \n",
    "#We want to know what shape to pass into this. Basically, we need to know\n",
    "#the size of the input coming in and how many neurons we are going to be working with.\n",
    "#We take the matrix as inputs x neurons to avoid transposing everytime we access it.'''\n",
    "#randn is a gaussian distribution function bounded around 0\n",
    "        \n",
    "        self.biases = np.zeros((1,n_neurons))\n",
    "       \n",
    "    def forward(self, inputs):\n",
    "        self.output = np.dot(inputs, self.weights) + self.biases\n",
    "class Activation_ReLU:\n",
    "    def forward(self, inputs):\n",
    "        self.output = np.maximum(0, inputs)\n",
    "\n",
    "#Since it creates a graph with x and y data, we have 2 unique features\n",
    "layer1 = Layer_Dense(2,5)\n",
    "activation1 = Activation_ReLU()\n",
    "\n",
    "layer1.forward(X)\n",
    "#print(layer1.output)\n",
    "\n",
    "activation1.forward(layer1.output)\n",
    "print(activation1.output) #Now all the negative values are converted to 0"
   ]
  },
  {
   "cell_type": "code",
   "execution_count": 31,
   "id": "8de45a9c",
   "metadata": {},
   "outputs": [
    {
     "name": "stdout",
     "output_type": "stream",
     "text": [
      "[121.51041751873483, 3.353484652549023, 10.859062664920513]\n",
      "[0.8952826639572619, 0.024708306782099374, 0.0800090292606387]\n",
      "0.9999999999999999\n"
     ]
    }
   ],
   "source": [
    "#Softmax Activation Function\n",
    "'''A softmax activation function is a combination of the well known \n",
    "exponential function along with the normalisation procedure explained below.\n",
    "We use exponential functions so that we get rid of the negative values \n",
    "However, we do NOT want to lose the meaning of these negative values =)\n",
    "Normalisation is dividing each individual exponential output with the sum \n",
    "of all exponential outputs. This gives us something like a probability \n",
    "distribution function and the sum of all these normalised values must be \n",
    "equal to or very close to 1'''\n",
    "\n",
    "import math\n",
    "\n",
    "layer_outputs = [4.8, 1.21, 2.385]\n",
    "e = math.e #exponential function\n",
    "\n",
    "\n",
    "\n",
    "exp_values = []\n",
    "for output in layer_outputs:\n",
    "    exp_values.append(e**output)\n",
    "print(exp_values)\n",
    "\n",
    "norm_base = sum(exp_values)\n",
    "norm_values = []\n",
    "\n",
    "for value in exp_values:\n",
    "    norm_values.append(value/norm_base) #To get like a probability distribution\n",
    "\n",
    "print(norm_values) #This should all add up to be close to 1\n",
    "print(sum(norm_values))\n",
    "#Verified! =)"
   ]
  },
  {
   "cell_type": "code",
   "execution_count": 40,
   "id": "d58a52a5",
   "metadata": {},
   "outputs": [
    {
     "name": "stdout",
     "output_type": "stream",
     "text": [
      "[[1.44741415e+01 3.99462138e-01 1.29351551e+00]\n",
      " [1.00575769e+03 2.24491271e-02 1.67544960e-01]\n",
      " [1.64694628e+00 1.15018504e+00 4.12682327e-01]]\n"
     ]
    }
   ],
   "source": [
    "#Simplify the above code using Numpy library for exponential function \n",
    "import math\n",
    "import numpy as np \n",
    "\n",
    "\n",
    "layer_outputs = [[4.8, 1.21, 2.385],\n",
    "                 [8.9, -1.81, 0.2],\n",
    "                 [1.41, 1.051, 0.026]]\n",
    "\n",
    "\n",
    "exp_values = np.exp(layer_outputs)\n",
    "#Sums up each row of layer_outputs\n",
    "#If we say axis=0, it return sum of each column \n",
    "#Keepdims is used just to maintain the same dimensions of the original matrix\n",
    "norm_values = exp_values / np.sum(layer_outputs, axis=1, keepdims=True)\n",
    "print(norm_values)\n"
   ]
  },
  {
   "cell_type": "code",
   "execution_count": 1,
   "id": "41d1fbf3",
   "metadata": {},
   "outputs": [
    {
     "name": "stdout",
     "output_type": "stream",
     "text": [
      "[[0.33333333 0.33333333 0.33333333]\n",
      " [0.33332799 0.33332075 0.33335126]\n",
      " [0.33331877 0.33330169 0.33337954]\n",
      " [0.33332944 0.33331647 0.33335408]\n",
      " [0.33328002 0.33323203 0.33348794]]\n"
     ]
    }
   ],
   "source": [
    "'''To avoid overflow error. We take the maximum element from the list \n",
    "and subtract every other element from that item so that the greatest element\n",
    "becomes 0 while everything else becomes less than 0. This helps us bound our \n",
    "Softmax function to 1 as upper bound, thus removing any overflow :)'''\n",
    "\n",
    "import numpy as np\n",
    "import nnfs \n",
    "from nnfs.datasets import spiral_data\n",
    "\n",
    "\n",
    "\n",
    "class Layer_Dense: \n",
    "    def __init__(self, n_inputs, n_neurons):\n",
    "        \n",
    "        self.weights = 0.10*np.random.randn(n_inputs, n_neurons)               \n",
    "        self.biases = np.zeros((1,n_neurons))\n",
    "       \n",
    "    def forward(self, inputs):\n",
    "        self.output = np.dot(inputs, self.weights) + self.biases\n",
    "\n",
    "class Activation_ReLU:\n",
    "    def forward(self, inputs):\n",
    "        self.output = np.maximum(0, inputs)\n",
    "\n",
    "class Activation_Softmax:\n",
    "    def forward(self, inputs):\n",
    "        exp_values = np.exp(inputs - np.max(inputs, axis=1, keepdims=True))\n",
    "        probabilities = exp_values/ np.sum(exp_values, axis=1, keepdims=True)\n",
    "        self.output = probabilities\n",
    "\n",
    "X,y = spiral_data(samples = 100, classes = 3)\n",
    "\n",
    "dense1 = Layer_Dense(2,3)\n",
    "activation1 = Activation_ReLU()\n",
    "\n",
    "dense2 = Layer_Dense(3,3)\n",
    "activation2 = Activation_Softmax()\n",
    "\n",
    "dense1.forward(X)\n",
    "activation1.forward(dense1.output)\n",
    "\n",
    "dense2.forward(activation1.output)\n",
    "activation2.forward(dense2.output)\n",
    "print(activation2.output[:5]) #Print first 5 of the 300 outputs\n",
    "\n",
    "#Learn about Categorial Cross Entropy - successful and convenient method to calculate loss\n",
    "#Loss = -[(log y)*(prediction of y)]\n",
    "\n",
    "#Introduction to One Hot Encoding \n",
    "#If you have N classes, you have an N- classes long vector filled with 0s except one 1 which indicates the target class. \n",
    "#Eg: Classes = 4, Target Label = 3\n",
    "# Representation: [0,0,0,1]"
   ]
  },
  {
   "cell_type": "code",
   "execution_count": 12,
   "id": "dc0833a0",
   "metadata": {},
   "outputs": [
    {
     "name": "stdout",
     "output_type": "stream",
     "text": [
      "[[0.35667494 0.69314718 0.10536052]]\n"
     ]
    }
   ],
   "source": [
    "#Implementing the Loss into overall Neural Framework\n",
    "import numpy as np \n",
    "softmax_outputs = np.array([[0.7,0.1,0.2],[0.1,0.5,0.4],[0.02,0.9,0.08]])\n",
    "class_targets = [0,1,1]\n",
    "print(-np.log(softmax_outputs[[0,1,2],[class_targets]]))\n",
    "#Prints the targets we are interested in"
   ]
  },
  {
   "cell_type": "code",
   "execution_count": 15,
   "id": "ba44127a",
   "metadata": {},
   "outputs": [
    {
     "name": "stdout",
     "output_type": "stream",
     "text": [
      "[[0.33333333 0.33333333 0.33333333]\n",
      " [0.33337581 0.33327203 0.33335216]\n",
      " [0.33341817 0.33326803 0.3333138 ]\n",
      " [0.33346947 0.33320452 0.33332601]\n",
      " [0.33350465 0.333198   0.33329735]]\n",
      "Loss: 1.0988928013754962\n"
     ]
    }
   ],
   "source": [
    "import numpy as np\n",
    "import nnfs \n",
    "from nnfs.datasets import spiral_data\n",
    "\n",
    "\n",
    "\n",
    "class Layer_Dense: \n",
    "    def __init__(self, n_inputs, n_neurons):\n",
    "        \n",
    "        self.weights = 0.10*np.random.randn(n_inputs, n_neurons)               \n",
    "        self.biases = np.zeros((1,n_neurons))\n",
    "       \n",
    "    def forward(self, inputs):\n",
    "        self.output = np.dot(inputs, self.weights) + self.biases\n",
    "\n",
    "class Activation_ReLU:\n",
    "    def forward(self, inputs):\n",
    "        self.output = np.maximum(0, inputs)\n",
    "\n",
    "class Activation_Softmax:\n",
    "    def forward(self, inputs):\n",
    "        exp_values = np.exp(inputs - np.max(inputs, axis=1, keepdims=True))\n",
    "        probabilities = exp_values/ np.sum(exp_values, axis=1, keepdims=True)\n",
    "        self.output = probabilities\n",
    "\n",
    "class Loss: \n",
    "    def calculate(self,output,y):\n",
    "        sample_losses = self.forward(output,y)\n",
    "        data_loss = np.mean(sample_losses)\n",
    "        return data_loss\n",
    "\n",
    "class Loss_Categorical_CrossEntropy(Loss):\n",
    "    def forward(self,y_pred,y_true):\n",
    "        samples = len(y_pred)\n",
    "        y_pred_clipped = np.clip(y_pred, 1e-7, 1-1e-7)\n",
    "        \n",
    "        if len(y_true.shape)==1: #Scalar values\n",
    "            correct_confidences = y_pred_clipped[range(samples),y_true]\n",
    "            #We have a one dimensional targets array\n",
    "        elif len(y_true.shape)==2: #One Hot Encoding\n",
    "            correct_confidences = np.sum(y_pred_clipped*y_true, axis=1)\n",
    "            #This is if we have a 2 dimensional array and multiply row-wise\n",
    "        negative_log_likelihoods = -np.log(correct_confidences)\n",
    "        return negative_log_likelihoods\n",
    "    \n",
    "X,y = spiral_data(samples = 100, classes = 3)\n",
    "\n",
    "dense1 = Layer_Dense(2,3)\n",
    "activation1 = Activation_ReLU()\n",
    "\n",
    "dense2 = Layer_Dense(3,3)\n",
    "activation2 = Activation_Softmax()\n",
    "\n",
    "dense1.forward(X)\n",
    "activation1.forward(dense1.output)\n",
    "\n",
    "dense2.forward(activation1.output)\n",
    "activation2.forward(dense2.output)\n",
    "print(activation2.output[:5])\n",
    "\n",
    "loss_function = Loss_Categorical_CrossEntropy()\n",
    "loss = loss_function.calculate(activation2.output, y)\n",
    "\n",
    "print(\"Loss:\", loss)"
   ]
  }
 ],
 "metadata": {
  "kernelspec": {
   "display_name": "Python 3 (ipykernel)",
   "language": "python",
   "name": "python3"
  },
  "language_info": {
   "codemirror_mode": {
    "name": "ipython",
    "version": 3
   },
   "file_extension": ".py",
   "mimetype": "text/x-python",
   "name": "python",
   "nbconvert_exporter": "python",
   "pygments_lexer": "ipython3",
   "version": "3.9.7"
  }
 },
 "nbformat": 4,
 "nbformat_minor": 5
}
